{
 "cells": [
  {
   "cell_type": "code",
   "execution_count": 1,
   "id": "9c9e23ac",
   "metadata": {},
   "outputs": [],
   "source": [
    "#importing_libraries"
   ]
  },
  {
   "cell_type": "code",
   "execution_count": 2,
   "id": "8eb1efef",
   "metadata": {
    "scrolled": true
   },
   "outputs": [],
   "source": [
    "import numpy as np\n",
    "import tensorflow as tf\n",
    "from keras.preprocessing.image import ImageDataGenerator\n",
    "\n",
    "#ImageDataGenerator is used to preprocess training and test set"
   ]
  },
  {
   "cell_type": "code",
   "execution_count": 3,
   "id": "b3a27e62",
   "metadata": {},
   "outputs": [],
   "source": [
    "#Data preprocessing"
   ]
  },
  {
   "cell_type": "code",
   "execution_count": 4,
   "id": "1f1d9ff5",
   "metadata": {},
   "outputs": [],
   "source": [
    "#Training image processing"
   ]
  },
  {
   "cell_type": "code",
   "execution_count": 5,
   "id": "6be6fd79",
   "metadata": {},
   "outputs": [
    {
     "name": "stdout",
     "output_type": "stream",
     "text": [
      "Found 3319 images belonging to 5 classes.\n"
     ]
    }
   ],
   "source": [
    "train_datagen = ImageDataGenerator(\n",
    "                rescale=1./255,\n",
    "                shear_range=0.2,\n",
    "                zoom_range=0.2,\n",
    "                horizontal_flip=True)\n",
    "training_set = train_datagen.flow_from_directory(\n",
    "                'training_set',target_size=(64,64),batch_size=32,class_mode='categorical')\n",
    "\n",
    "#if u want u can use (128,128) in place of (64,64)\n",
    "#if u have only 2 data set set go for class_mode as binary"
   ]
  },
  {
   "cell_type": "code",
   "execution_count": 6,
   "id": "4acef461",
   "metadata": {},
   "outputs": [],
   "source": [
    "#test image processing"
   ]
  },
  {
   "cell_type": "code",
   "execution_count": 7,
   "id": "cfceb58d",
   "metadata": {},
   "outputs": [
    {
     "name": "stdout",
     "output_type": "stream",
     "text": [
      "Found 998 images belonging to 5 classes.\n"
     ]
    }
   ],
   "source": [
    "test_datagen=ImageDataGenerator(rescale=1./255)\n",
    "test_set=test_datagen.flow_from_directory(\n",
    "            'test_set',target_size=(64,64),batch_size=32,class_mode='categorical')"
   ]
  },
  {
   "cell_type": "code",
   "execution_count": 8,
   "id": "f55d3c2f",
   "metadata": {},
   "outputs": [],
   "source": [
    "#Building Model"
   ]
  },
  {
   "cell_type": "code",
   "execution_count": 9,
   "id": "7597cb5d",
   "metadata": {},
   "outputs": [],
   "source": [
    "cnn = tf.keras.models.Sequential()\n",
    "#structure of cnn(skeleton)"
   ]
  },
  {
   "cell_type": "code",
   "execution_count": 10,
   "id": "4ce1fc50",
   "metadata": {},
   "outputs": [],
   "source": [
    "#Building convolution layer"
   ]
  },
  {
   "cell_type": "code",
   "execution_count": 11,
   "id": "9d77f653",
   "metadata": {},
   "outputs": [],
   "source": [
    "cnn.add(tf.keras.layers.Conv2D(filters=64,kernel_size=3,activation='relu',input_shape=[64,64,3]))\n",
    "cnn.add(tf.keras.layers.MaxPool2D(pool_size=2,strides=2))\n",
    "#con2d layer if filtered by maxpool2d layer"
   ]
  },
  {
   "cell_type": "code",
   "execution_count": 12,
   "id": "a2dcd8e2",
   "metadata": {},
   "outputs": [],
   "source": [
    "cnn.add(tf.keras.layers.Conv2D(filters=64,kernel_size=3,activation='relu'))\n",
    "cnn.add(tf.keras.layers.MaxPool2D(pool_size=2,strides=2))\n",
    "#this is used again to extract only the imp features"
   ]
  },
  {
   "cell_type": "code",
   "execution_count": 13,
   "id": "be5f258c",
   "metadata": {},
   "outputs": [],
   "source": [
    "cnn.add(tf.keras.layers.Dropout(0.5))\n",
    "#dropout is used to improve the accuracy of our model\n",
    "#this is optional"
   ]
  },
  {
   "cell_type": "code",
   "execution_count": 14,
   "id": "fedd59ab",
   "metadata": {},
   "outputs": [],
   "source": [
    "#flatening to [m*1] matrix form"
   ]
  },
  {
   "cell_type": "code",
   "execution_count": 15,
   "id": "78ee701f",
   "metadata": {},
   "outputs": [],
   "source": [
    "cnn.add(tf.keras.layers.Flatten())\n",
    "#input layer of artificial neural network"
   ]
  },
  {
   "cell_type": "code",
   "execution_count": 16,
   "id": "20a0bfd7",
   "metadata": {},
   "outputs": [],
   "source": [
    "#constructing artificial neural network"
   ]
  },
  {
   "cell_type": "code",
   "execution_count": 17,
   "id": "fefb19be",
   "metadata": {},
   "outputs": [],
   "source": [
    "#make hidden layer(unit specifies no of neurons in the hidden layer)"
   ]
  },
  {
   "cell_type": "code",
   "execution_count": 18,
   "id": "2d5320b6",
   "metadata": {},
   "outputs": [],
   "source": [
    "cnn.add(tf.keras.layers.Dense(units=128,activation='relu'))"
   ]
  },
  {
   "cell_type": "code",
   "execution_count": 19,
   "id": "8601337e",
   "metadata": {},
   "outputs": [],
   "source": [
    "#output layer(here unit specifies no of flowers u have like daisy=1,dandelion=2,rose=3,sunflower=4,tulip=5,o/p in the same form)\n",
    "#(if i/p is rose then rose category will be 1 and rest all 0)"
   ]
  },
  {
   "cell_type": "code",
   "execution_count": 20,
   "id": "0d18a700",
   "metadata": {},
   "outputs": [],
   "source": [
    "cnn.add(tf.keras.layers.Dense(units=5,activation='softmax'))#for binary data units is 1,activavtion is sigmoid\n",
    "#output layer"
   ]
  },
  {
   "cell_type": "code",
   "execution_count": 21,
   "id": "af226694",
   "metadata": {},
   "outputs": [],
   "source": [
    "#cnn is ready, now compiling the result"
   ]
  },
  {
   "cell_type": "code",
   "execution_count": 22,
   "id": "362e31a6",
   "metadata": {},
   "outputs": [],
   "source": [
    "cnn.compile(optimizer='rmsprop',loss='categorical_crossentropy',metrics=['accuracy'])\n",
    "#for binary optimizer is adam loss is binary_crossentropy"
   ]
  },
  {
   "cell_type": "code",
   "execution_count": 30,
   "id": "4ef57b54",
   "metadata": {},
   "outputs": [
    {
     "name": "stdout",
     "output_type": "stream",
     "text": [
      "Epoch 1/30\n",
      "104/104 [==============================] - 39s 373ms/step - loss: 0.3731 - accuracy: 0.8704 - val_loss: 0.9705 - val_accuracy: 0.7014\n",
      "Epoch 2/30\n",
      "104/104 [==============================] - 41s 396ms/step - loss: 0.3489 - accuracy: 0.8683 - val_loss: 0.9646 - val_accuracy: 0.7124\n",
      "Epoch 3/30\n",
      "104/104 [==============================] - 41s 393ms/step - loss: 0.3500 - accuracy: 0.8741 - val_loss: 1.0142 - val_accuracy: 0.7114\n",
      "Epoch 4/30\n",
      "104/104 [==============================] - 41s 396ms/step - loss: 0.3541 - accuracy: 0.8704 - val_loss: 0.9445 - val_accuracy: 0.7285\n",
      "Epoch 5/30\n",
      "104/104 [==============================] - 41s 395ms/step - loss: 0.3253 - accuracy: 0.8879 - val_loss: 0.9962 - val_accuracy: 0.7074\n",
      "Epoch 6/30\n",
      "104/104 [==============================] - 41s 395ms/step - loss: 0.3431 - accuracy: 0.8729 - val_loss: 0.9882 - val_accuracy: 0.6894\n",
      "Epoch 7/30\n",
      "104/104 [==============================] - 925s 9s/step - loss: 0.3284 - accuracy: 0.8813 - val_loss: 0.9663 - val_accuracy: 0.7044\n",
      "Epoch 8/30\n",
      "104/104 [==============================] - 41s 393ms/step - loss: 0.3311 - accuracy: 0.8849 - val_loss: 1.0576 - val_accuracy: 0.7084\n",
      "Epoch 9/30\n",
      "104/104 [==============================] - 41s 391ms/step - loss: 0.3110 - accuracy: 0.8991 - val_loss: 1.0367 - val_accuracy: 0.7064\n",
      "Epoch 10/30\n",
      "104/104 [==============================] - 41s 394ms/step - loss: 0.3246 - accuracy: 0.8864 - val_loss: 1.1259 - val_accuracy: 0.7104\n",
      "Epoch 11/30\n",
      "104/104 [==============================] - 41s 393ms/step - loss: 0.2991 - accuracy: 0.8982 - val_loss: 1.1409 - val_accuracy: 0.6944\n",
      "Epoch 12/30\n",
      "104/104 [==============================] - 41s 395ms/step - loss: 0.2985 - accuracy: 0.8967 - val_loss: 1.1656 - val_accuracy: 0.7094\n",
      "Epoch 13/30\n",
      "104/104 [==============================] - 41s 394ms/step - loss: 0.2887 - accuracy: 0.8997 - val_loss: 1.2001 - val_accuracy: 0.6703\n",
      "Epoch 14/30\n",
      "104/104 [==============================] - 41s 394ms/step - loss: 0.2838 - accuracy: 0.9033 - val_loss: 1.0723 - val_accuracy: 0.7104\n",
      "Epoch 15/30\n",
      "104/104 [==============================] - 162s 2s/step - loss: 0.2698 - accuracy: 0.9060 - val_loss: 1.1761 - val_accuracy: 0.6994\n",
      "Epoch 16/30\n",
      "104/104 [==============================] - 37s 361ms/step - loss: 0.2486 - accuracy: 0.9150 - val_loss: 1.0341 - val_accuracy: 0.7164\n",
      "Epoch 17/30\n",
      "104/104 [==============================] - 41s 393ms/step - loss: 0.2570 - accuracy: 0.9084 - val_loss: 1.1121 - val_accuracy: 0.7114\n",
      "Epoch 18/30\n",
      "104/104 [==============================] - 41s 393ms/step - loss: 0.2711 - accuracy: 0.9000 - val_loss: 1.2071 - val_accuracy: 0.6784\n",
      "Epoch 19/30\n",
      "104/104 [==============================] - 41s 393ms/step - loss: 0.2606 - accuracy: 0.9147 - val_loss: 1.1592 - val_accuracy: 0.7204\n",
      "Epoch 20/30\n",
      "104/104 [==============================] - 41s 392ms/step - loss: 0.2454 - accuracy: 0.9153 - val_loss: 1.3674 - val_accuracy: 0.6914\n",
      "Epoch 21/30\n",
      "104/104 [==============================] - 41s 393ms/step - loss: 0.2275 - accuracy: 0.9235 - val_loss: 1.1198 - val_accuracy: 0.7355\n",
      "Epoch 22/30\n",
      "104/104 [==============================] - 41s 394ms/step - loss: 0.2331 - accuracy: 0.9211 - val_loss: 1.0853 - val_accuracy: 0.7054\n",
      "Epoch 23/30\n",
      "104/104 [==============================] - 41s 394ms/step - loss: 0.2515 - accuracy: 0.9108 - val_loss: 1.1291 - val_accuracy: 0.7224\n",
      "Epoch 24/30\n",
      "104/104 [==============================] - 41s 395ms/step - loss: 0.2392 - accuracy: 0.9208 - val_loss: 1.2903 - val_accuracy: 0.7134\n",
      "Epoch 25/30\n",
      "104/104 [==============================] - 41s 392ms/step - loss: 0.2268 - accuracy: 0.9256 - val_loss: 1.0939 - val_accuracy: 0.7104\n",
      "Epoch 26/30\n",
      "104/104 [==============================] - 41s 392ms/step - loss: 0.2195 - accuracy: 0.9250 - val_loss: 1.0617 - val_accuracy: 0.6954\n",
      "Epoch 27/30\n",
      "104/104 [==============================] - 43s 409ms/step - loss: 0.2146 - accuracy: 0.9292 - val_loss: 1.2889 - val_accuracy: 0.7074\n",
      "Epoch 28/30\n",
      "104/104 [==============================] - 41s 392ms/step - loss: 0.2321 - accuracy: 0.9262 - val_loss: 1.2481 - val_accuracy: 0.7144\n",
      "Epoch 29/30\n",
      "104/104 [==============================] - 41s 394ms/step - loss: 0.2144 - accuracy: 0.9268 - val_loss: 1.2086 - val_accuracy: 0.7214\n",
      "Epoch 30/30\n",
      "104/104 [==============================] - 42s 400ms/step - loss: 0.2268 - accuracy: 0.9241 - val_loss: 1.1555 - val_accuracy: 0.6954\n"
     ]
    },
    {
     "data": {
      "text/plain": [
       "<keras.callbacks.History at 0x1a206380c70>"
      ]
     },
     "execution_count": 30,
     "metadata": {},
     "output_type": "execute_result"
    }
   ],
   "source": [
    "cnn.fit(x=training_set,validation_data=test_set,epochs=30)#epochs is a cycle for training the model"
   ]
  },
  {
   "cell_type": "code",
   "execution_count": 43,
   "id": "bc0ce481",
   "metadata": {},
   "outputs": [],
   "source": [
    "#checking out prediction folder accuracy"
   ]
  },
  {
   "cell_type": "code",
   "execution_count": 44,
   "id": "00ed5ba3",
   "metadata": {},
   "outputs": [],
   "source": [
    "#preprocess new image"
   ]
  },
  {
   "cell_type": "code",
   "execution_count": 91,
   "id": "149035bd",
   "metadata": {},
   "outputs": [],
   "source": [
    "from keras.preprocessing import image\n",
    "test_image=image.load_img('prediction/daisy1.jpg',target_size=(64,64))  #take up prediction image of daisy flower,scaling the img\n",
    "test_image=image.img_to_array(test_image)   #converting image to an array\n",
    "test_image=np.expand_dims(test_image,axis=0)   #expanding the dimension anf flattening(using axis)\n",
    "result=cnn.predict(test_image) #passing img to cnn , do prediction & storing result to result"
   ]
  },
  {
   "cell_type": "code",
   "execution_count": 92,
   "id": "c141e402",
   "metadata": {},
   "outputs": [
    {
     "data": {
      "text/plain": [
       "{'daisy': 0, 'dandelion': 1, 'rose': 2, 'sunflower': 3, 'tulip': 4}"
      ]
     },
     "execution_count": 92,
     "metadata": {},
     "output_type": "execute_result"
    }
   ],
   "source": [
    "training_set.class_indices"
   ]
  },
  {
   "cell_type": "code",
   "execution_count": 93,
   "id": "c41b6cc7",
   "metadata": {},
   "outputs": [
    {
     "name": "stdout",
     "output_type": "stream",
     "text": [
      "[[1. 0. 0. 0. 0.]]\n"
     ]
    }
   ],
   "source": [
    "print(result)"
   ]
  },
  {
   "cell_type": "code",
   "execution_count": 94,
   "id": "6fb2bfad",
   "metadata": {},
   "outputs": [
    {
     "name": "stdout",
     "output_type": "stream",
     "text": [
      "Daisy\n"
     ]
    }
   ],
   "source": [
    "if result[0][0]==1:\n",
    "    print('Daisy')\n",
    "elif result[0][1]==1:\n",
    "    print('Dandelion')\n",
    "elif result[0][2]==1:\n",
    "    print('Rose')\n",
    "elif result[0][3]==1:\n",
    "    print('Sunflower')\n",
    "elif result[0][4]==1:\n",
    "    print('Tulip')"
   ]
  },
  {
   "cell_type": "code",
   "execution_count": null,
   "id": "23868ab2",
   "metadata": {},
   "outputs": [],
   "source": []
  },
  {
   "cell_type": "code",
   "execution_count": null,
   "id": "b586e2ad",
   "metadata": {},
   "outputs": [],
   "source": []
  }
 ],
 "metadata": {
  "kernelspec": {
   "display_name": "Python 3 (ipykernel)",
   "language": "python",
   "name": "python3"
  },
  "language_info": {
   "codemirror_mode": {
    "name": "ipython",
    "version": 3
   },
   "file_extension": ".py",
   "mimetype": "text/x-python",
   "name": "python",
   "nbconvert_exporter": "python",
   "pygments_lexer": "ipython3",
   "version": "3.9.7"
  }
 },
 "nbformat": 4,
 "nbformat_minor": 5
}
